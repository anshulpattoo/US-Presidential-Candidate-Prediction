{
 "cells": [
  {
   "cell_type": "code",
   "execution_count": 39,
   "metadata": {},
   "outputs": [],
   "source": [
    "from sklearn.model_selection import train_test_split\n",
    "from sklearn.preprocessing import StandardScaler\n",
    "import numpy as np\n",
    "import pandas as pd"
   ]
  },
  {
   "cell_type": "code",
   "execution_count": 246,
   "metadata": {},
   "outputs": [
    {
     "name": "stdout",
     "output_type": "stream",
     "text": [
      "                          people_NNS  america_NP   make_VB  president_NN  \\\n",
      "1992clinton920416           0.221278    0.287723  0.354953      0.168776   \n",
      "1992clinton920422           0.805724    0.125871  0.251418      0.174340   \n",
      "1992clinton920716           0.417194    0.668999  0.290108      0.190195   \n",
      "1992clinton920814           0.069395    0.084924  0.318052      0.317582   \n",
      "1992clinton921002           0.396249    0.000000  0.000000      0.644756   \n",
      "...                              ...         ...       ...           ...   \n",
      "2012romney120925            0.384952    0.147214  0.176436      0.195744   \n",
      "2012romney121003debate1r    0.573114    0.211366  0.302245      0.303396   \n",
      "2012romney121016debate2r    0.620353    0.276066  0.531707      0.442440   \n",
      "2012romney121022debate3     0.239600    0.293216  0.503856      0.372672   \n",
      "2012romney121107            0.287569    0.586529  0.000000      0.292451   \n",
      "\n",
      "                          country_NN  going_VBG    us_PPO  american_JJ  \\\n",
      "1992clinton920416           0.261966   0.102928  0.063064     0.383070   \n",
      "1992clinton920422           0.446496   0.291617  0.026057     0.158275   \n",
      "1992clinton920716           0.323590   0.122361  0.546662     0.284623   \n",
      "1992clinton920814           0.041078   0.000000  0.105480     0.183060   \n",
      "1992clinton921002           0.000000   0.000000  0.120459     0.522641   \n",
      "...                              ...        ...       ...          ...   \n",
      "2012romney120925            0.142415   0.025579  0.182847     0.158665   \n",
      "2012romney121003debate1r    0.111534   0.442377  0.155130     0.093195   \n",
      "2012romney121016debate2r    0.209831   0.479660  0.146945     0.106263   \n",
      "2012romney121022debate3     0.075087   0.404580  0.460600     0.055769   \n",
      "2012romney121107            0.453923   0.000000  0.291397     0.000000   \n",
      "\n",
      "                            new_JJ  years_NNS  ...   east_NR   walk_VB  \\\n",
      "1992clinton920416         0.601396   0.218183  ...  0.000000  0.000000   \n",
      "1992clinton920422         0.065776   0.491718  ...  0.000000  0.000000   \n",
      "1992clinton920716         0.459983   0.103159  ...  0.000000  0.000000   \n",
      "1992clinton920814         0.887549   0.049763  ...  0.218915  0.000000   \n",
      "1992clinton921002         0.101359   0.113658  ...  1.000000  0.000000   \n",
      "...                            ...        ...  ...       ...       ...   \n",
      "2012romney120925          0.123091   0.103517  ...  0.607205  0.000000   \n",
      "2012romney121003debate1r  0.080329   0.202666  ...  0.049530  0.000000   \n",
      "2012romney121016debate2r  0.072129   0.473734  ...  0.101660  0.000000   \n",
      "2012romney121022debate3   0.036053   0.272882  ...  0.489056  0.140454   \n",
      "2012romney121107          0.000000   0.137477  ...  0.000000  0.000000   \n",
      "\n",
      "                          morning_NN  decision_NN   led_VBD  september_NP  \\\n",
      "1992clinton920416           0.000000     0.000000  0.000000           0.0   \n",
      "1992clinton920422           0.000000     0.000000  0.000000           0.0   \n",
      "1992clinton920716           0.000000     0.091757  0.000000           0.0   \n",
      "1992clinton920814           0.000000     0.000000  0.000000           0.0   \n",
      "1992clinton921002           0.000000     0.505486  0.000000           0.0   \n",
      "...                              ...          ...       ...           ...   \n",
      "2012romney120925            0.164781     0.000000  0.000000           0.0   \n",
      "2012romney121003debate1r    0.000000     0.050074  0.000000           0.0   \n",
      "2012romney121016debate2r    0.000000     0.051388  0.040602           0.0   \n",
      "2012romney121022debate3     0.000000     0.044949  0.000000           0.0   \n",
      "2012romney121107            0.000000     0.000000  0.483099           0.0   \n",
      "\n",
      "                          areas_NNS  outstanding_JJ  streets_NNS  winners  \n",
      "1992clinton920416          0.000000             0.0     0.102140      1.0  \n",
      "1992clinton920422          0.071458             0.0     0.000000      1.0  \n",
      "1992clinton920716          0.000000             0.0     0.212496      1.0  \n",
      "1992clinton920814          0.144633             0.0     0.000000      1.0  \n",
      "1992clinton921002          0.000000             0.0     0.000000      1.0  \n",
      "...                             ...             ...          ...      ...  \n",
      "2012romney120925           0.000000             0.0     0.000000      0.0  \n",
      "2012romney121003debate1r   0.000000             0.0     0.000000      0.0  \n",
      "2012romney121016debate2r   0.000000             0.0     0.000000      0.0  \n",
      "2012romney121022debate3    0.000000             0.0     0.156139      0.0  \n",
      "2012romney121107           0.000000             0.0     0.000000      0.0  \n",
      "\n",
      "[431 rows x 818 columns]\n"
     ]
    }
   ],
   "source": [
    "dataset = pd.read_csv('/Users/anshulpattoo/Desktop/CISC 251/Project/Python scripts/merged.csv', index_col=0)\n",
    "print(dataset)"
   ]
  },
  {
   "cell_type": "code",
   "execution_count": 247,
   "metadata": {},
   "outputs": [
    {
     "name": "stdout",
     "output_type": "stream",
     "text": [
      "[[0.22127783 0.28772333 0.35495283 ... 0.         0.10214049 1.        ]\n",
      " [0.8057242  0.12587122 0.25141774 ... 0.         0.         1.        ]\n",
      " [0.41719428 0.66899876 0.29010759 ... 0.         0.212496   1.        ]\n",
      " ...\n",
      " [0.6203527  0.27606581 0.53170712 ... 0.         0.         0.        ]\n",
      " [0.2395996  0.29321599 0.50385573 ... 0.         0.15613857 0.        ]\n",
      " [0.28756866 0.58652928 0.         ... 0.         0.         0.        ]]\n"
     ]
    }
   ],
   "source": [
    "print(dataset.iloc[:, :818].values)"
   ]
  },
  {
   "cell_type": "code",
   "execution_count": 249,
   "metadata": {},
   "outputs": [
    {
     "name": "stdout",
     "output_type": "stream",
     "text": [
      "301\n",
      "130\n"
     ]
    }
   ],
   "source": [
    "# split into training and testing sets\n",
    "X, y = dataset.iloc[:, :817].values, dataset.iloc[:, 817].values\n",
    "X_train, X_test, y_train, y_test = train_test_split(\n",
    "    X, y, test_size=0.3,\n",
    "    stratify=y, random_state=0\n",
    ")\n",
    "# standardize the features (also known as z-score normalization)\n",
    "sc = StandardScaler()\n",
    "X_train_std = sc.fit_transform(X_train)\n",
    "X_test_std = sc.transform(X_test)\n",
    "\n",
    "X_train_std = X_train\n",
    "X_test_std = X_test\n",
    "\n",
    "print(len(X_train_std))\n",
    "print(len(X_test_std))"
   ]
  },
  {
   "cell_type": "code",
   "execution_count": 226,
   "metadata": {},
   "outputs": [],
   "source": [
    "cov_mat = np.cov(X_train_std.T)\n",
    "eigen_vals, eigen_vecs = np.linalg.eig(cov_mat)"
   ]
  },
  {
   "cell_type": "code",
   "execution_count": 227,
   "metadata": {},
   "outputs": [],
   "source": [
    "# calculate cumulative sum of explained variances\n",
    "tot = sum(eigen_vals)\n",
    "var_exp = [(i / tot) for i in sorted(eigen_vals, reverse=True)]\n",
    "cum_var_exp = np.cumsum(var_exp)"
   ]
  },
  {
   "cell_type": "code",
   "execution_count": 228,
   "metadata": {},
   "outputs": [],
   "source": [
    "eigen_pairs = [(np.abs(eigen_vals[i]), eigen_vecs[:, i]) for i in range(len(eigen_vals))]\n",
    "\n",
    "# Sort the (eigenvalue, eigenvector) tuples from high to low\n",
    "eigen_pairs.sort(key=lambda k: k[0], reverse=True)"
   ]
  },
  {
   "cell_type": "code",
   "execution_count": 237,
   "metadata": {},
   "outputs": [
    {
     "name": "stdout",
     "output_type": "stream",
     "text": [
      "817\n"
     ]
    }
   ],
   "source": [
    "w = np.hstack((eigen_pairs[0][1][:, np.newaxis], eigen_pairs[1][1][:, np.newaxis]))"
   ]
  },
  {
   "cell_type": "code",
   "execution_count": 240,
   "metadata": {},
   "outputs": [
    {
     "data": {
      "text/plain": [
       "array([ 0.12486962+0.j, -0.24739107+0.j])"
      ]
     },
     "execution_count": 240,
     "metadata": {},
     "output_type": "execute_result"
    }
   ],
   "source": [
    "X_train_std[0].dot(w)\n"
   ]
  },
  {
   "cell_type": "code",
   "execution_count": 243,
   "metadata": {},
   "outputs": [
    {
     "name": "stdout",
     "output_type": "stream",
     "text": [
      "301\n"
     ]
    }
   ],
   "source": [
    "X_train_pca = X_train_std.dot(w)\n",
    "print(len(y_train))"
   ]
  },
  {
   "cell_type": "code",
   "execution_count": 232,
   "metadata": {},
   "outputs": [],
   "source": [
    "import matplotlib.pyplot as plt\n",
    "colors = ['r', 'b', 'g']\n",
    "markers = ['s', 'x', 'o']\n",
    "#for l, c, m in zip(np.unique(y_train), colors, markers):\n",
    "#     plt.scatter(X_train_pca[y_train==l, 0], \n",
    "#                 X_train_pca[y_train==l, 1], \n",
    "#                 c=c, label=l, marker=m) \n",
    "# print(X_train_pca[y_train==1, 0])\n",
    "# print(X_train_pca[y_train==1, 1])\n",
    "\n",
    "dataset = [[], []]\n",
    "\n",
    "for i in range(len(X_train_pca[y_train==1, 0])):\n",
    "    dataset[0].append(X_train_pca[y_train==1, 0][i].real)\n",
    "    dataset[1].append(X_train_pca[y_train==1, 1][i].real)\n",
    "\n",
    "#print(dataset)\n",
    "# plt.xlabel('PC 1')\n",
    "# plt.ylabel('PC 2')\n",
    "# plt.legend(loc='lower left')\n",
    "# plt.show()"
   ]
  },
  {
   "cell_type": "code",
   "execution_count": 233,
   "metadata": {},
   "outputs": [
    {
     "name": "stdout",
     "output_type": "stream",
     "text": [
      "          PC1       PC2\n",
      "0   -1.522930  0.017321\n",
      "1   -2.008482 -1.311938\n",
      "2   -1.590624 -0.734623\n",
      "3   -2.002195 -1.423006\n",
      "4    0.532929  0.343599\n",
      "..        ...       ...\n",
      "197 -0.890827 -0.815827\n",
      "198 -1.791007 -0.697696\n",
      "199 -1.424033  0.837935\n",
      "200 -3.078324  0.677081\n",
      "201 -2.537797  0.705714\n",
      "\n",
      "[202 rows x 2 columns]\n"
     ]
    }
   ],
   "source": [
    "from pandas import DataFrame\n",
    "#np.array(dataset).reshape(404, )\n",
    "\n",
    "df = pd.DataFrame({'PC1': dataset[0],\n",
    "                   'PC2': dataset[1]})\n",
    "print(df)\n"
   ]
  },
  {
   "cell_type": "code",
   "execution_count": 234,
   "metadata": {},
   "outputs": [
    {
     "name": "stdout",
     "output_type": "stream",
     "text": [
      "SILHOUETTE:  0.38291630137794586\n"
     ]
    }
   ],
   "source": [
    "from sklearn.metrics import silhouette_score\n",
    "\n",
    "EM = GaussianMixture(n_components = 2) \n",
    "EM.fit(df)\n",
    "\n",
    "cluster = EM.predict(df)\n",
    "\n",
    "print(\"SILHOUETTE: \", silhouette_score(df, cluster))\n",
    "df['cluster'] = cluster\n"
   ]
  },
  {
   "cell_type": "code",
   "execution_count": 236,
   "metadata": {},
   "outputs": [
    {
     "name": "stdout",
     "output_type": "stream",
     "text": [
      "78\n",
      "124\n"
     ]
    }
   ],
   "source": [
    "import pandas as pd\n",
    "import numpy as np\n",
    "from plotnine import *\n",
    "import matplotlib.pyplot as plt\n",
    "\n",
    "from sklearn.preprocessing import StandardScaler\n",
    "\n",
    "from sklearn.cluster import KMeans\n",
    "from sklearn.mixture import GaussianMixture\n",
    "\n",
    "from sklearn.metrics import silhouette_score\n",
    "\n",
    "print((cluster == 0).sum())\n",
    "print((cluster == 1).sum())"
   ]
  },
  {
   "cell_type": "code",
   "execution_count": null,
   "metadata": {},
   "outputs": [],
   "source": [
    "(ggplot(df, aes(x = \"PC1\", y = \"PC2\", color = \"cluster\")) + geom_point())"
   ]
  }
 ],
 "metadata": {
  "kernelspec": {
   "display_name": "Python 3",
   "language": "python",
   "name": "python3"
  },
  "language_info": {
   "codemirror_mode": {
    "name": "ipython",
    "version": 3
   },
   "file_extension": ".py",
   "mimetype": "text/x-python",
   "name": "python",
   "nbconvert_exporter": "python",
   "pygments_lexer": "ipython3",
   "version": "3.7.0"
  }
 },
 "nbformat": 4,
 "nbformat_minor": 4
}
